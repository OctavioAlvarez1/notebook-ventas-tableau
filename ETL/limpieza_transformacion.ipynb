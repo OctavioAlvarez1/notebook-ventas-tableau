{
 "cells": [
  {
   "cell_type": "markdown",
   "metadata": {},
   "source": [
    "# 🧱 ETL - Limpieza y Transformación de Ventas de Notebooks\n",
    "Este notebook crea la **capa Silver** a partir del dataset original almacenado en la capa Bronze de S3.\n",
    "\n",
    "Pipeline: S3 (Bronze) → Limpieza (Python) → S3 (Silver)"
   ]
  },
  {
   "cell_type": "code",
   "execution_count": 1,
   "metadata": {},
   "outputs": [],
   "source": [
    "\n",
    "# 📦 1. Importo las  librerías\n",
    "import pandas as pd\n",
    "import boto3\n",
    "from io import StringIO"
   ]
  },
  {
   "cell_type": "code",
   "execution_count": 2,
   "metadata": {},
   "outputs": [],
   "source": [
    "# ============================================================\n",
    "# ⚙️ 2. Configuración de conexión\n",
    "# ============================================================\n",
    "bucket_name = 'notebooks-datalake-oalvarez'\n",
    "bronze_key = 'bronze/notebooks_ventas.csv'\n",
    "silver_key = 'silver/notebooks_ventas_clean.csv'\n",
    "\n",
    "# Inicializar cliente S3 (usa las credenciales configuradas con aws configure)\n",
    "s3 = boto3.client('s3')"
   ]
  },
  {
   "cell_type": "code",
   "execution_count": 3,
   "metadata": {},
   "outputs": [
    {
     "name": "stdout",
     "output_type": "stream",
     "text": [
      "✅ Dataset cargado desde Bronze:\n",
      "    año trimestre    marca  unidades_vendidas  ingreso_total continente\n",
      "0  2022        Q3       HP            2838341     2318924597       Asia\n",
      "1  2023        Q3  Samsung            5201221     5388464956     África\n",
      "2  2023        Q3   Lenovo            2771890     2123267740    Oceanía\n",
      "3  2023        Q2   Lenovo            2585840     3550358320     Europa\n",
      "4  2022        Q1       HP            4377789     6028215453     Europa\n",
      "\n",
      "Registros totales: 250\n"
     ]
    }
   ],
   "source": [
    "# ============================================================\n",
    "# 📥 3. Lectura de datos desde capa Bronze (S3)\n",
    "# ============================================================\n",
    "obj = s3.get_object(Bucket=bucket_name, Key=bronze_key)\n",
    "df = pd.read_csv(obj['Body'])\n",
    "\n",
    "print('✅ Dataset cargado desde Bronze:')\n",
    "print(df.head())\n",
    "print(f'\\nRegistros totales: {len(df)}')"
   ]
  },
  {
   "cell_type": "code",
   "execution_count": 6,
   "metadata": {},
   "outputs": [],
   "source": [
    "# ============================================================\n",
    "# 🧹 4. Limpieza y normalización de datos\n",
    "# ============================================================\n",
    "# Eliminar duplicados y filas vacías\n",
    "df = df.drop_duplicates()\n",
    "df = df.dropna(subset=['marca', 'año', 'unidades_vendidas', 'ingreso_total'])\n",
    "\n",
    "# Tipos de datos correctos\n",
    "df['año'] = df['año'].astype(int)\n",
    "df['unidades_vendidas'] = df['unidades_vendidas'].astype(int)\n",
    "df['ingreso_total'] = df['ingreso_total'].astype(float)\n",
    "\n",
    "# Normalización de texto\n",
    "df['marca'] = df['marca'].str.title().str.strip()\n",
    "df['continente'] = df['continente'].str.title().str.strip()"
   ]
  },
  {
   "cell_type": "code",
   "execution_count": 8,
   "metadata": {},
   "outputs": [
    {
     "name": "stdout",
     "output_type": "stream",
     "text": [
      "\n",
      "📊 Información general del DataFrame:\n",
      "<class 'pandas.core.frame.DataFrame'>\n",
      "RangeIndex: 250 entries, 0 to 249\n",
      "Data columns (total 6 columns):\n",
      " #   Column             Non-Null Count  Dtype  \n",
      "---  ------             --------------  -----  \n",
      " 0   año                250 non-null    int64  \n",
      " 1   trimestre          250 non-null    object \n",
      " 2   marca              250 non-null    object \n",
      " 3   unidades_vendidas  250 non-null    int64  \n",
      " 4   ingreso_total      250 non-null    float64\n",
      " 5   continente         250 non-null    object \n",
      "dtypes: float64(1), int64(2), object(3)\n",
      "memory usage: 11.8+ KB\n",
      "None\n",
      "\n",
      "🔢 Marcas únicas:\n",
      "marca\n",
      "Huawei       35\n",
      "Asus         30\n",
      "Msi          26\n",
      "Samsung      26\n",
      "Acer         26\n",
      "Hp           24\n",
      "Lenovo       22\n",
      "Microsoft    22\n",
      "Apple        20\n",
      "Dell         19\n",
      "Name: count, dtype: int64\n",
      "\n",
      "Años disponibles: [np.int64(2020), np.int64(2021), np.int64(2022), np.int64(2023), np.int64(2024)]\n"
     ]
    }
   ],
   "source": [
    "# ============================================================\n",
    "# 🔍 5. Validaciones básicas\n",
    "# ============================================================\n",
    "print('\\n📊 Información general del DataFrame:')\n",
    "print(df.info())\n",
    "\n",
    "print('\\n🔢 Marcas únicas:')\n",
    "print(df['marca'].value_counts())\n",
    "\n",
    "print('\\nAños disponibles:', sorted(df['año'].unique()))"
   ]
  },
  {
   "cell_type": "code",
   "execution_count": 9,
   "metadata": {},
   "outputs": [
    {
     "name": "stdout",
     "output_type": "stream",
     "text": [
      "\n",
      "✅ Archivo limpio cargado correctamente en S3 → notebooks-datalake-oalvarez/silver/notebooks_ventas_clean.csv\n"
     ]
    }
   ],
   "source": [
    "# ============================================================\n",
    "# 💾 6. Exportación a capa Silver (S3)\n",
    "# ============================================================\n",
    "csv_buffer = StringIO()\n",
    "df.to_csv(csv_buffer, index=False)\n",
    "\n",
    "s3.put_object(\n",
    "    Bucket=bucket_name,\n",
    "    Key=silver_key,\n",
    "    Body=csv_buffer.getvalue()\n",
    ")\n",
    "\n",
    "print(f'\\n✅ Archivo limpio cargado correctamente en S3 → {bucket_name}/{silver_key}')"
   ]
  }
 ],
 "metadata": {
  "kernelspec": {
   "display_name": "Python 3",
   "language": "python",
   "name": "python3"
  },
  "language_info": {
   "codemirror_mode": {
    "name": "ipython",
    "version": 3
   },
   "file_extension": ".py",
   "mimetype": "text/x-python",
   "name": "python",
   "nbconvert_exporter": "python",
   "pygments_lexer": "ipython3",
   "version": "3.13.1"
  }
 },
 "nbformat": 4,
 "nbformat_minor": 5
}
