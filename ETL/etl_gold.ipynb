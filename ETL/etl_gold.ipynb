{
 "cells": [
  {
   "cell_type": "markdown",
   "id": "40425fd2",
   "metadata": {},
   "source": [
    "\n",
    "# 🥇 ETL GOLD - Generación de KPIs para análisis y Tableau\n",
    "\n",
    "En esta etapa generamos la **capa Gold**, que consolida los datos limpios \n",
    "de la capa Silver en indicadores analíticos (KPIs) listos para consulta \n",
    "desde **AWS Athena** y visualización en **Tableau**.\n"
   ]
  },
  {
   "cell_type": "code",
   "execution_count": 1,
   "id": "76a12b50",
   "metadata": {},
   "outputs": [],
   "source": [
    "#Importo las librerias\n",
    "import pandas as pd\n",
    "import boto3\n",
    "from io import BytesIO\n",
    "import pyarrow as pa\n",
    "import pyarrow.parquet as pq\n"
   ]
  },
  {
   "cell_type": "code",
   "execution_count": 2,
   "id": "16378c71",
   "metadata": {},
   "outputs": [],
   "source": [
    "\n",
    "# ============================================================\n",
    "# ⚙️ 1. Configuración de conexión a S3\n",
    "# ============================================================\n",
    "\n",
    "s3 = boto3.client('s3')\n",
    "bucket_name = 'notebooks-datalake-oalvarez'\n",
    "\n",
    "silver_key = 'silver/notebooks_ventas_clean.csv'\n",
    "gold_path = 'gold/'\n"
   ]
  },
  {
   "cell_type": "code",
   "execution_count": 3,
   "id": "2ebccc34",
   "metadata": {},
   "outputs": [
    {
     "name": "stdout",
     "output_type": "stream",
     "text": [
      "✅ Dataset cargado desde Silver\n",
      "    año trimestre    marca  unidades_vendidas  ingreso_total continente\n",
      "0  2022        Q3       Hp            2838341   2.318925e+09       Asia\n",
      "1  2023        Q3  Samsung            5201221   5.388465e+09     África\n",
      "2  2023        Q3   Lenovo            2771890   2.123268e+09    Oceanía\n",
      "3  2023        Q2   Lenovo            2585840   3.550358e+09     Europa\n",
      "4  2022        Q1       Hp            4377789   6.028215e+09     Europa\n"
     ]
    }
   ],
   "source": [
    "\n",
    "# ============================================================\n",
    "# 📥 2. Lectura de datos desde la capa Silver\n",
    "# ============================================================\n",
    "\n",
    "obj = s3.get_object(Bucket=bucket_name, Key=silver_key)\n",
    "df = pd.read_csv(obj['Body'])\n",
    "\n",
    "print('✅ Dataset cargado desde Silver')\n",
    "print(df.head())\n"
   ]
  },
  {
   "cell_type": "code",
   "execution_count": 4,
   "id": "8d4bb37b",
   "metadata": {},
   "outputs": [],
   "source": [
    "\n",
    "# ============================================================\n",
    "# 🧮 3. Generación de tablas Gold (KPIs)\n",
    "# ============================================================\n",
    "\n",
    "# --- 3.1 Market share por marca ---\n",
    "market_share = (\n",
    "    df.groupby('marca')['unidades_vendidas']\n",
    "    .sum()\n",
    "    .reset_index()\n",
    "    .sort_values(by='unidades_vendidas', ascending=False)\n",
    ")\n",
    "market_share['market_share_%'] = (\n",
    "    100 * market_share['unidades_vendidas'] / market_share['unidades_vendidas'].sum()\n",
    ")\n",
    "\n",
    "# --- 3.2 Tendencia anual top 5 marcas ---\n",
    "top5_marcas = market_share['marca'].head(5)\n",
    "tendencia_top5 = df[df['marca'].isin(top5_marcas)].groupby(['año', 'marca'])['unidades_vendidas'].sum().reset_index()\n",
    "\n",
    "# --- 3.3 Unidades por continente y marca ---\n",
    "unidades_continente_marca = df.groupby(['continente', 'marca'])['unidades_vendidas'].sum().reset_index()\n",
    "\n",
    "# --- 3.4 Ingreso vs unidades + precio promedio ---\n",
    "df['precio_promedio'] = df['ingreso_total'] / df['unidades_vendidas']\n",
    "ingreso_vs_unidades = df[['marca', 'año', 'continente', 'unidades_vendidas', 'ingreso_total', 'precio_promedio']]\n",
    "\n",
    "# --- 3.5 Top 5 marcas por ingreso total ---\n",
    "top5_ingreso = (\n",
    "    df.groupby('marca')['ingreso_total']\n",
    "    .sum()\n",
    "    .reset_index()\n",
    "    .sort_values(by='ingreso_total', ascending=False)\n",
    "    .head(5)\n",
    ")\n"
   ]
  },
  {
   "cell_type": "code",
   "execution_count": 5,
   "id": "1a5be66e",
   "metadata": {},
   "outputs": [
    {
     "name": "stdout",
     "output_type": "stream",
     "text": [
      "✅ Archivo actualizado en S3 → gold/market_share_por_marca/data.parquet\n",
      "✅ Archivo actualizado en S3 → gold/tendencia_anual_top5/data.parquet\n",
      "✅ Archivo actualizado en S3 → gold/unidades_por_continente_y_marca/data.parquet\n",
      "✅ Archivo actualizado en S3 → gold/ingreso_vs_unidades/data.parquet\n",
      "✅ Archivo actualizado en S3 → gold/top5_marcas_ingreso/data.parquet\n"
     ]
    }
   ],
   "source": [
    "\n",
    "# ============================================================\n",
    "# 💾 4. Exportar KPIs a capa Gold (S3 en formato Parquet)\n",
    "# ============================================================\n",
    "\n",
    "def upload_parquet_to_s3(df, key_folder):\n",
    "    \"\"\"\n",
    "    Sube un DataFrame a S3 en formato Parquet de forma idempotente.\n",
    "    Si el archivo ya existe, lo sobrescribe sin duplicar rutas.\n",
    "    \"\"\"\n",
    "    buffer = BytesIO()\n",
    "    table = pa.Table.from_pandas(df)\n",
    "    pq.write_table(table, buffer)\n",
    "\n",
    "    key_name = f'{gold_path}{key_folder}/data.parquet'\n",
    "    s3.put_object(Bucket=bucket_name, Key=key_name, Body=buffer.getvalue())\n",
    "    print(f'✅ Archivo actualizado en S3 → {key_name}')\n",
    "\n",
    "\n",
    "upload_parquet_to_s3(market_share, 'market_share_por_marca')\n",
    "upload_parquet_to_s3(tendencia_top5, 'tendencia_anual_top5')\n",
    "upload_parquet_to_s3(unidades_continente_marca, 'unidades_por_continente_y_marca')\n",
    "upload_parquet_to_s3(ingreso_vs_unidades, 'ingreso_vs_unidades')\n",
    "upload_parquet_to_s3(top5_ingreso, 'top5_marcas_ingreso')\n",
    "\n"
   ]
  },
  {
   "cell_type": "code",
   "execution_count": 7,
   "id": "869d6852",
   "metadata": {},
   "outputs": [
    {
     "name": "stdout",
     "output_type": "stream",
     "text": [
      "\n",
      "Market Share:\n",
      "     marca  unidades_vendidas  market_share_%\n",
      "5   Huawei          110825023       13.357364\n",
      "2     Asus          101653189       12.251914\n",
      "8      Msi           93113386       11.222641\n",
      "4       Hp           85511118       10.306365\n",
      "9  Samsung           84990764       10.243649\n",
      "\n",
      "Tendencia Top 5:\n",
      "    año    marca  unidades_vendidas\n",
      "0  2020     Asus           21595881\n",
      "1  2020       Hp           12102756\n",
      "2  2020   Huawei           16536250\n",
      "3  2020      Msi           15350471\n",
      "4  2020  Samsung           16241685\n",
      "\n",
      "Unidades por Continente y Marca:\n",
      "  continente  marca  unidades_vendidas\n",
      "0    América   Acer           11770239\n",
      "1    América  Apple            6425310\n",
      "2    América   Asus           22631248\n",
      "3    América   Dell           13908511\n",
      "4    América     Hp           17742758\n",
      "\n",
      "Top 5 Ingreso Total:\n",
      "     marca  ingreso_total\n",
      "5   Huawei   1.134949e+11\n",
      "8      Msi   9.804810e+10\n",
      "2     Asus   9.006859e+10\n",
      "9  Samsung   8.398019e+10\n",
      "4       Hp   7.993633e+10\n",
      "\n",
      "✅ Todos los KPIs fueron generados y guardados en la capa Gold de S3.\n"
     ]
    }
   ],
   "source": [
    "\n",
    "# ============================================================\n",
    "# 📊 5. Verificación rápida\n",
    "# ============================================================\n",
    "\n",
    "print(\"\\nMarket Share:\")\n",
    "print(market_share.head())\n",
    "\n",
    "print(\"\\nTendencia Top 5:\")\n",
    "print(tendencia_top5.head())\n",
    "\n",
    "print(\"\\nUnidades por Continente y Marca:\")\n",
    "print(unidades_continente_marca.head())\n",
    "\n",
    "print(\"\\nTop 5 Ingreso Total:\")\n",
    "print(top5_ingreso.head())\n",
    "\n",
    "print(\"\\n✅ Todos los KPIs fueron generados y guardados en la capa Gold de S3.\")\n"
   ]
  },
  {
   "cell_type": "code",
   "execution_count": 11,
   "id": "d83232f2",
   "metadata": {},
   "outputs": [
    {
     "name": "stdout",
     "output_type": "stream",
     "text": [
      "✅ Archivo exportado: Output\\market_share_por_marca.csv\n",
      "✅ Archivo exportado: Output\\tendencia_anual_top5.csv\n",
      "✅ Archivo exportado: Output\\unidades_por_continente_y_marca.csv\n",
      "✅ Archivo exportado: Output\\ingreso_vs_unidades.csv\n",
      "✅ Archivo exportado: Output\\top5_marcas_ingreso.csv\n",
      "\n",
      "🎯 Todos los archivos CSV fueron guardados correctamente en la carpeta 'Output/'\n"
     ]
    }
   ],
   "source": [
    "# Descargar los archivos para usar de forma local (Tableau Public no permite conectar AWS)\n",
    "import pandas as pd\n",
    "import boto3\n",
    "import pyarrow.parquet as pq\n",
    "import io\n",
    "import os\n",
    "\n",
    "# ============================================================\n",
    "# ⚙️ Configuración de conexión a S3\n",
    "# ============================================================\n",
    "s3 = boto3.client('s3')\n",
    "bucket_name = 'notebooks-datalake-oalvarez'\n",
    "gold_prefix = 'gold/'\n",
    "\n",
    "# ============================================================\n",
    "# 📁 Crear carpeta local \"Output\" si no existe\n",
    "# ============================================================\n",
    "output_dir = 'Output'\n",
    "os.makedirs(output_dir, exist_ok=True)\n",
    "\n",
    "# ============================================================\n",
    "# 📦 Carpetas dentro de Gold (cada una tiene un data.parquet)\n",
    "# ============================================================\n",
    "folders = [\n",
    "    'market_share_por_marca',\n",
    "    'tendencia_anual_top5',\n",
    "    'unidades_por_continente_y_marca',\n",
    "    'ingreso_vs_unidades',\n",
    "    'top5_marcas_ingreso'\n",
    "]\n",
    "\n",
    "# ============================================================\n",
    "# ⬇️ Descargar desde S3 y exportar como CSV local\n",
    "# ============================================================\n",
    "for folder in folders:\n",
    "    key = f'{gold_prefix}{folder}/data.parquet'\n",
    "    obj = s3.get_object(Bucket=bucket_name, Key=key)\n",
    "    buffer = io.BytesIO(obj['Body'].read())\n",
    "    table = pq.read_table(buffer)\n",
    "    df = table.to_pandas()\n",
    "\n",
    "    csv_path = os.path.join(output_dir, f'{folder}.csv')\n",
    "    df.to_csv(csv_path, index=False, encoding='utf-8-sig')\n",
    "    print(f'✅ Archivo exportado: {csv_path}')\n",
    "\n",
    "print(\"\\n🎯 Todos los archivos CSV fueron guardados correctamente en la carpeta 'Output/'\")\n",
    "\n"
   ]
  }
 ],
 "metadata": {
  "kernelspec": {
   "display_name": "Python 3",
   "language": "python",
   "name": "python3"
  },
  "language_info": {
   "codemirror_mode": {
    "name": "ipython",
    "version": 3
   },
   "file_extension": ".py",
   "mimetype": "text/x-python",
   "name": "python",
   "nbconvert_exporter": "python",
   "pygments_lexer": "ipython3",
   "version": "3.13.1"
  }
 },
 "nbformat": 4,
 "nbformat_minor": 5
}
